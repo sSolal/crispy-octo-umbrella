{
 "cells": [
  {
   "cell_type": "markdown",
   "id": "ad0aa7ae-00e5-456f-9d17-5f0379250f20",
   "metadata": {},
   "source": [
    "Here goes the project interesting code"
   ]
  },
  {
   "cell_type": "code",
   "execution_count": 1,
   "id": "ff5bdee5-3382-4c96-95bf-59218b8f4fcb",
   "metadata": {},
   "outputs": [],
   "source": [
    "from graphs import Graph\n",
    "G = Graph(4)"
   ]
  },
  {
   "cell_type": "code",
   "execution_count": 2,
   "id": "34d83883",
   "metadata": {},
   "outputs": [],
   "source": [
    "G.add_edge(0,1,5,5)\n",
    "G.add_edge(0,2,5,5)\n",
    "G.add_edge(1,2,5,5)\n",
    "G.add_edge(2,3,5,5)\n",
    "\n",
    "G.random_weights()"
   ]
  },
  {
   "cell_type": "code",
   "execution_count": 3,
   "id": "fea69f59",
   "metadata": {},
   "outputs": [
    {
     "name": "stdout",
     "output_type": "stream",
     "text": [
      "0 -> 1 , w = 0.88\n",
      "0 -> 2 , w = 0.92\n",
      "1 -> 2 , w = 0.62\n",
      "2 -> 3 , w = 0.22\n"
     ]
    }
   ],
   "source": [
    "G.print_graph()"
   ]
  },
  {
   "cell_type": "code",
   "execution_count": 4,
   "id": "8a6d6e59",
   "metadata": {},
   "outputs": [],
   "source": [
    "from algo_gen import Genom, Population\n",
    "P = Population(G, 20)"
   ]
  },
  {
   "cell_type": "code",
   "execution_count": 5,
   "id": "f163ddee",
   "metadata": {},
   "outputs": [
    {
     "name": "stdout",
     "output_type": "stream",
     "text": [
      "Bob : [1.886007748061136, 1.0521409147538898, 1.5761497905518782, 1.2384761198181709]\n",
      "Alice : [1.7078300477289963, 1.635202093151021, 1.613139789841172, 1.819007204144996]\n"
     ]
    }
   ],
   "source": [
    "Bob = P.pop[0]\n",
    "Alice = P.pop[1]\n",
    "print(\"Bob :\", Bob.weights)\n",
    "print(\"Alice :\", Alice.weights)"
   ]
  },
  {
   "cell_type": "code",
   "execution_count": 6,
   "id": "65e46b04",
   "metadata": {},
   "outputs": [
    {
     "name": "stdout",
     "output_type": "stream",
     "text": [
      "Carl : [1.7078300477289963, 1.635202093151021, 1.5761497905518782, 1.819007204144996]\n"
     ]
    }
   ],
   "source": [
    "Carl = Bob.cross_over(Alice)\n",
    "print(\"Carl :\", Carl.weights)"
   ]
  },
  {
   "cell_type": "code",
   "execution_count": null,
   "id": "fda7e67e",
   "metadata": {},
   "outputs": [],
   "source": []
  }
 ],
 "metadata": {
  "kernelspec": {
   "display_name": "Python 3 (ipykernel)",
   "language": "python",
   "name": "python3"
  },
  "language_info": {
   "codemirror_mode": {
    "name": "ipython",
    "version": 3
   },
   "file_extension": ".py",
   "mimetype": "text/x-python",
   "name": "python",
   "nbconvert_exporter": "python",
   "pygments_lexer": "ipython3",
   "version": "3.10.12"
  }
 },
 "nbformat": 4,
 "nbformat_minor": 5
}

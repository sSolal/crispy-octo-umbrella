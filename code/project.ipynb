{
 "cells": [
  {
   "cell_type": "markdown",
   "id": "ad0aa7ae-00e5-456f-9d17-5f0379250f20",
   "metadata": {},
   "source": [
    "Here goes the project interesting code"
   ]
  },
  {
   "cell_type": "code",
   "execution_count": 4,
   "id": "ff5bdee5-3382-4c96-95bf-59218b8f4fcb",
   "metadata": {},
   "outputs": [
    {
     "name": "stdout",
     "output_type": "stream",
     "text": [
      "Hello world !\n"
     ]
    }
   ],
   "source": [
    "from simulation import Network\n",
    "_ = Network()"
   ]
  }
 ],
 "metadata": {
  "kernelspec": {
   "display_name": "Python 3 (ipykernel)",
   "language": "python",
   "name": "python3"
  },
  "language_info": {
   "codemirror_mode": {
    "name": "ipython",
    "version": 3
   },
   "file_extension": ".py",
   "mimetype": "text/x-python",
   "name": "python",
   "nbconvert_exporter": "python",
   "pygments_lexer": "ipython3",
   "version": "3.10.12"
  }
 },
 "nbformat": 4,
 "nbformat_minor": 5
}

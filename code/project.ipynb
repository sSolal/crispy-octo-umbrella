{
 "cells": [
  {
   "cell_type": "markdown",
   "id": "ad0aa7ae-00e5-456f-9d17-5f0379250f20",
   "metadata": {},
   "source": [
    "Here goes the project interesting code"
   ]
  },
  {
   "cell_type": "code",
   "execution_count": 1,
   "id": "ff5bdee5-3382-4c96-95bf-59218b8f4fcb",
   "metadata": {},
   "outputs": [],
   "source": [
    "from graphs import Graph\n",
    "G = Graph(4)"
   ]
  },
  {
   "cell_type": "code",
   "execution_count": 2,
   "id": "29d62619",
   "metadata": {},
   "outputs": [],
   "source": [
    "G.add_edge(0,1,5,5)\n",
    "G.add_edge(0,2,5,5)\n",
    "G.add_edge(1,2,5,5)\n",
    "G.add_edge(2,3,5,5)\n",
    "\n",
    "G.random_weights()"
   ]
  },
  {
   "cell_type": "code",
   "execution_count": 3,
   "id": "5a1e8e5f",
   "metadata": {},
   "outputs": [
    {
     "name": "stdout",
     "output_type": "stream",
     "text": [
      "0 -> 1 w = 0.1\n",
      "0 -> 2 w = 0.73\n",
      "1 -> 2 w = 0.31\n",
      "2 -> 3 w = 0.44\n"
     ]
    }
   ],
   "source": [
    "G.print_graph()"
   ]
  },
  {
   "cell_type": "code",
   "execution_count": null,
   "id": "c933526f",
   "metadata": {},
   "outputs": [],
   "source": []
  }
 ],
 "metadata": {
  "kernelspec": {
   "display_name": "Python 3 (ipykernel)",
   "language": "python",
   "name": "python3"
  },
  "language_info": {
   "codemirror_mode": {
    "name": "ipython",
    "version": 3
   },
   "file_extension": ".py",
   "mimetype": "text/x-python",
   "name": "python",
   "nbconvert_exporter": "python",
   "pygments_lexer": "ipython3",
   "version": "3.10.12"
  }
 },
 "nbformat": 4,
 "nbformat_minor": 5
}
